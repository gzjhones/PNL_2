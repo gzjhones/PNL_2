{
 "cells": [
  {
   "attachments": {},
   "cell_type": "markdown",
   "metadata": {},
   "source": [
    "# Actividad 2: Análisis sintáctico\n",
    "**Universidad Internacional de La Rioja (UNIR) - Máster Universitario en Inteligencia Artificial - Procesamiento del Lenguaje Natural**"
   ]
  },
  {
   "attachments": {},
   "cell_type": "markdown",
   "metadata": {},
   "source": [
    "***\n",
    "**Datos de los alumnos (Nombres y Apellidos):**\n",
    "    \n",
    "&emsp;- César David Sáenz Salazar\n",
    "    \n",
    "&emsp;- Alvaro Pinto Mamani\n",
    "\n",
    "*Fecha: 24/01/2023*\n",
    "***"
   ]
  },
  {
   "attachments": {},
   "cell_type": "markdown",
   "metadata": {},
   "source": [
    "## Índice\n",
    "* [1) Definición de funciones](#1)\n",
    "* [2) Inicialización del las reglas sintácticas](#2)\n",
    "* [3) Aplicación del algoritmo CKY](#3)"
   ]
  },
  {
   "attachments": {},
   "cell_type": "markdown",
   "metadata": {},
   "source": [
    "### 1. Definición de funciones<a class=\"anchor\" id=\"1\"></a>"
   ]
  },
  {
   "cell_type": "code",
   "execution_count": 634,
   "metadata": {},
   "outputs": [],
   "source": [
    "from graphviz import Graph, Digraph, nohtml\n",
    "from IPython.display import Image, display\n"
   ]
  },
  {
   "cell_type": "code",
   "execution_count": 635,
   "metadata": {},
   "outputs": [],
   "source": [
    "class MatrixRule:\n",
    "    def __init__(self, symbol, rule, origin, probability):\n",
    "        self.symbol = symbol\n",
    "        self.rule = rule\n",
    "        self.origin = origin\n",
    "        self.probability = probability\n",
    "\n",
    "    def get_symbol(self):\n",
    "        return self.symbol\n",
    "\n",
    "    def get_rule(self):\n",
    "        return self.rule\n",
    "\n",
    "    def get_origin(self):\n",
    "        return self.origin\n",
    "\n",
    "    def get_probability(self):\n",
    "        return self.probability\n",
    "\n",
    "    def get_data(self):\n",
    "        return self.symbol + \": \" + str(self.rule) + \" <- \" + str(self.origin) + \" | \" + str(self.probability)\n",
    "\n",
    "\n",
    "def algorithm_CKY(phrase, grammar):\n",
    "    # Definición de la matriz para el algoritmo CKY\n",
    "    len_words = len(phrase)\n",
    "    matrix = [[[] for _ in range(len_words)] for _ in range(len_words)]\n",
    "\n",
    "    # Análisis de la primer diagonal\n",
    "    for n in range(len_words):\n",
    "        for key, rules in grammar.items():\n",
    "            for rule in rules:\n",
    "                rule_elements = rule[1]\n",
    "                if phrase[n] in rule_elements:\n",
    "                    matrix[n][n].append(\n",
    "                        MatrixRule(symbol=key, rule=rule_elements, origin=\"-\", probability=rule[0])\n",
    "                    )\n",
    "\n",
    "    # Análisis del resto de la matriz\n",
    "    for n in range(1, len_words):\n",
    "        for i in range(len_words - n):\n",
    "            j = i + n\n",
    "            for k in range(i, j):\n",
    "                for key, rules in grammar.items():\n",
    "                    for rule in rules:\n",
    "                        rule_elements = rule[1]\n",
    "                        for matrix_rule_1 in matrix[i][k]:\n",
    "                            for matrix_rule_2 in matrix[k+1][j]:\n",
    "                                symbol = matrix_rule_1.get_symbol() + \" \" + matrix_rule_2.get_symbol()\n",
    "                                if symbol in rule_elements:\n",
    "                                    origin = ((i, k), (k+1, j))\n",
    "                                    probability = rule[0] * matrix_rule_1.get_probability() * matrix_rule_2.get_probability()\n",
    "                                    matrix[i][j].append(\n",
    "                                        MatrixRule(symbol=key, rule=rule_elements, origin=origin, probability=probability)\n",
    "                                    )\n",
    "    return len_words, matrix\n",
    "\n",
    "# matrix: matríz resultado del algoritmo CKY con probabilidades\n",
    "# x: fila\n",
    "# y: columna\n",
    "# tree_list: arreglo con los nodos padres e hijos\n",
    "# father: parámetro para definir al padre, no se aplica en el primer nodo\n",
    "# rules: parámetro que define la creación de nodos hijos en la función recursiva\n",
    "# root: puntero de los nodos hijos\n",
    "\n",
    "def get_tree(matrix, x, y, tree_list, father = '', rules = '', root = 0):\n",
    "\n",
    "    tree = []\n",
    "    max = 0\n",
    "    # Ciclo para encontrar el origen en la matríz resultado del algoritmo CKY, variante con probabilidades\n",
    "    for m in matrix[x][y]:\n",
    "        # Si existen reglas de entrada al nodo se define la posición que alimentará al nodo\n",
    "        if(rules != ''):\n",
    "            if isinstance(rules, str):\n",
    "                rules = rules.split()\n",
    "\n",
    "            for rule in rules:\n",
    "                if(rule == m.get_symbol()):\n",
    "                    max = m.get_probability()\n",
    "                    if(len(tree) == 0):\n",
    "                        tree.append(m)\n",
    "        # Si no existen reglas de entrada se entiende que estamos por definir el primer nodo padre\n",
    "        else:\n",
    "            if(m.get_probability() > max):\n",
    "                max = m.get_probability()\n",
    "                # Sobreescribimos el primer nodo siempre que sea el primer nodo padre\n",
    "                if(len(tree) == 0):\n",
    "                    tree.append(m)\n",
    "                else:\n",
    "                    tree[0] = m\n",
    "    \n",
    "    if(len(tree) > 0):\n",
    "        #print('max: {}, en el nivel {}:{}, origen: {}'.format(tree[0].get_probability(), x, y, tree[0].get_origin()))\n",
    "\n",
    "        check = 0\n",
    "        child = tree[0].get_symbol()\n",
    "        # Definimos reglas para evitar nodos duplicados\n",
    "        for el in tree_list:\n",
    "            if(el['father'] == father and el['child'] == tree[0].get_symbol()):\n",
    "                check = 1\n",
    "            if(father == tree[0].get_symbol()):\n",
    "                check = 1\n",
    "            \n",
    "        position = len(tree_list)\n",
    "        probability = str(tree[0].get_probability())\n",
    "\n",
    "        if(check == 0):\n",
    "            # Insertamos un nodo padre/hijo\n",
    "            tree_list.append(\n",
    "                {\n",
    "                    'x': str(x),\n",
    "                    'y': str(y),\n",
    "                    'father': father,\n",
    "                    'child': child,\n",
    "                    'root': root,\n",
    "                    'position': position,\n",
    "                    'probability': probability,\n",
    "                }\n",
    "            )\n",
    "\n",
    "        # Evaluamos si este tiene dependencia en la matríz, lo que creará nuevos nodos\n",
    "        z = tree[0].get_origin()\n",
    "        if(z != '-'):\n",
    "            for k in z:\n",
    "                # Mediante una función recursiva a sí misma, get_tree(), obtenemos los nodos del en base a la ruta de Viterbi\n",
    "                get_tree(matrix, k[0], k[1], tree_list, tree[0].get_symbol(), tree[0].get_rule(), position)\n",
    "\n",
    "    \n",
    "    return tree_list\n",
    "\n",
    "def ploot_tree(tree_list):\n",
    "    # Instancia de la librería de graficación de nodos graphviz\n",
    "    g = Digraph('g', filename='btree.gv', node_attr={'shape': 'record', 'height': '.1'})\n",
    "    \n",
    "    # Ciclo para definir los nodos sin relaciones y/o punteros\n",
    "    for i in range(len(tree_list)):\n",
    "            # Imprimir nodos con probabilidad en una 4ta casilla\n",
    "            #g.node('node'+str(i), nohtml('<f0> root:'+str(tree_list[i]['root'])+'|<f1> position:'+str(tree_list[i]['position'])+'|<f2>'+tree_list[i]['child'])+'|<f3> ('+tree_list[i]['x']+', '+tree_list[i]['y']+')'+'|<f4> prob. '+tree_list[i]['probability'])\n",
    "\n",
    "            # Imprimir nodos sin la casilla de probabilidad\n",
    "            g.node('node'+str(i), nohtml('<f0> root:'+str(tree_list[i]['root'])+'|<f1> position:'+str(tree_list[i]['position'])+'|<f2>'+tree_list[i]['child'])+'|<f3> ('+tree_list[i]['x']+', '+tree_list[i]['y']+')')\n",
    "\n",
    "    # Cliclo para definir los punteros en los nodos padres hacia los nodos hijos\n",
    "    for i in range(len(tree_list)):\n",
    "        if(tree_list[i]['father'] != ''):\n",
    "            g.edge('node'+str(tree_list[i]['root'])+':f0', 'node'+str(tree_list[i]['position'])+':f1')\n",
    "\n",
    "    # Visualización del ploot\n",
    "    display(g)\n",
    "\n",
    "\n",
    "def print_matrix(len_words, matrix):\n",
    "    # Datos de la matriz\n",
    "    for n in range(len_words):\n",
    "        for i in range(len_words):\n",
    "            print(n, i)\n",
    "            tree_list = []\n",
    "            for matrix_rule in matrix[n][i]:\n",
    "                print(matrix_rule.get_data())\n",
    "            # Obtención del árbol con la ruta de Viterbi según el algoritmo CKY\n",
    "            tree = get_tree(matrix, n, i, tree_list)\n",
    "            #print(tree)\n",
    "            # Si el árbol tiene al menos un elemento, se grafica\n",
    "            if(len(tree) > 0):\n",
    "                ploot_tree(tree)"
   ]
  },
  {
   "attachments": {},
   "cell_type": "markdown",
   "metadata": {},
   "source": [
    "### 2. Inicialización del las reglas sintácticas<a class=\"anchor\" id=\"2\"></a>"
   ]
  },
  {
   "cell_type": "code",
   "execution_count": 636,
   "metadata": {},
   "outputs": [],
   "source": [
    "# Definición de la frase a análizar\n",
    "phrase = \"time flies like an arrow\"\n",
    "phrase = phrase.split()\n",
    "\n",
    "# Definición de las reglas gramaticales\n",
    "grammar = {\n",
    "    \"S\": ((0.8, ('NP VP')),),\n",
    "    \"NP\": ((0.002, ('time', 'flies', 'arrow')),\n",
    "           (0.3, ('Det Nom')),\n",
    "           (0.2, ('Nom Nom'))\n",
    "           ),\n",
    "    \"Nom\": ((0.002, ('time', 'flies', 'arrow')),\n",
    "                (0.1, ('Nom Noun')),\n",
    "                (0.2, ('Nom PP'))\n",
    "                ),\n",
    "    \"VP\": ((0.004, ('time')),\n",
    "           (0.008, ('flies', 'like')),\n",
    "           (0.3, ('Verb NP')),\n",
    "           (0.2, ('Verb PP'))\n",
    "           ),\n",
    "    \"PP\": ((0.1, ('Prep NP')),),\n",
    "    \"Verb\": ((0.01, ('time')),\n",
    "             (0.02, ('flies', 'like'))\n",
    "             ),\n",
    "    \"Noun\": ((0.01, ('time', 'flies', 'arrow')),),\n",
    "    \"Det\": ((0.05, ('an')),),\n",
    "    \"Prep\": ((0.05, ('like')),),\n",
    "}"
   ]
  },
  {
   "attachments": {},
   "cell_type": "markdown",
   "metadata": {},
   "source": [
    "### 3. Aplicación del algoritmo CKY<a class=\"anchor\" id=\"3\"></a>"
   ]
  },
  {
   "cell_type": "code",
   "execution_count": 637,
   "metadata": {},
   "outputs": [
    {
     "name": "stdout",
     "output_type": "stream",
     "text": [
      "0 0\n",
      "NP: ('time', 'flies', 'arrow') <- - | 0.002\n",
      "Nom: ('time', 'flies', 'arrow') <- - | 0.002\n",
      "VP: time <- - | 0.004\n",
      "Verb: time <- - | 0.01\n",
      "Noun: ('time', 'flies', 'arrow') <- - | 0.01\n"
     ]
    },
    {
     "data": {
      "image/svg+xml": "<?xml version=\"1.0\" encoding=\"UTF-8\" standalone=\"no\"?>\n<!DOCTYPE svg PUBLIC \"-//W3C//DTD SVG 1.1//EN\"\n \"http://www.w3.org/Graphics/SVG/1.1/DTD/svg11.dtd\">\n<!-- Generated by graphviz version 2.43.0 (0)\n -->\n<!-- Title: g Pages: 1 -->\n<svg width=\"219pt\" height=\"32pt\"\n viewBox=\"0.00 0.00 219.00 32.00\" xmlns=\"http://www.w3.org/2000/svg\" xmlns:xlink=\"http://www.w3.org/1999/xlink\">\n<g id=\"graph0\" class=\"graph\" transform=\"scale(1 1) rotate(0) translate(4 28)\">\n<title>g</title>\n<polygon fill=\"white\" stroke=\"transparent\" points=\"-4,4 -4,-28 215,-28 215,4 -4,4\"/>\n<!-- node0 -->\n<g id=\"node1\" class=\"node\">\n<title>node0</title>\n<polygon fill=\"none\" stroke=\"black\" points=\"0,-0.5 0,-23.5 211,-23.5 211,-0.5 0,-0.5\"/>\n<text text-anchor=\"middle\" x=\"24.5\" y=\"-8.3\" font-family=\"Times,serif\" font-size=\"14.00\">root:0</text>\n<polyline fill=\"none\" stroke=\"black\" points=\"49,-0.5 49,-23.5 \"/>\n<text text-anchor=\"middle\" x=\"84.5\" y=\"-8.3\" font-family=\"Times,serif\" font-size=\"14.00\">position:0</text>\n<polyline fill=\"none\" stroke=\"black\" points=\"120,-0.5 120,-23.5 \"/>\n<text text-anchor=\"middle\" x=\"142\" y=\"-8.3\" font-family=\"Times,serif\" font-size=\"14.00\">Verb</text>\n<polyline fill=\"none\" stroke=\"black\" points=\"164,-0.5 164,-23.5 \"/>\n<text text-anchor=\"middle\" x=\"187.5\" y=\"-8.3\" font-family=\"Times,serif\" font-size=\"14.00\">(0, 0)</text>\n</g>\n</g>\n</svg>\n",
      "text/plain": [
       "<graphviz.graphs.Digraph at 0x7fae9b753160>"
      ]
     },
     "metadata": {},
     "output_type": "display_data"
    },
    {
     "name": "stdout",
     "output_type": "stream",
     "text": [
      "0 1\n",
      "S: NP VP <- ((0, 0), (1, 1)) | 1.2800000000000001e-05\n",
      "NP: Nom Nom <- ((0, 0), (1, 1)) | 8.000000000000001e-07\n",
      "Nom: Nom Noun <- ((0, 0), (1, 1)) | 2.0000000000000003e-06\n",
      "VP: Verb NP <- ((0, 0), (1, 1)) | 6e-06\n"
     ]
    },
    {
     "data": {
      "image/svg+xml": "<?xml version=\"1.0\" encoding=\"UTF-8\" standalone=\"no\"?>\n<!DOCTYPE svg PUBLIC \"-//W3C//DTD SVG 1.1//EN\"\n \"http://www.w3.org/Graphics/SVG/1.1/DTD/svg11.dtd\">\n<!-- Generated by graphviz version 2.43.0 (0)\n -->\n<!-- Title: g Pages: 1 -->\n<svg width=\"259pt\" height=\"92pt\"\n viewBox=\"0.00 0.00 259.00 92.00\" xmlns=\"http://www.w3.org/2000/svg\" xmlns:xlink=\"http://www.w3.org/1999/xlink\">\n<g id=\"graph0\" class=\"graph\" transform=\"scale(1 1) rotate(0) translate(4 88)\">\n<title>g</title>\n<polygon fill=\"white\" stroke=\"transparent\" points=\"-4,4 -4,-88 255,-88 255,4 -4,4\"/>\n<!-- node0 -->\n<g id=\"node1\" class=\"node\">\n<title>node0</title>\n<polygon fill=\"none\" stroke=\"black\" points=\"60,-60.5 60,-83.5 251,-83.5 251,-60.5 60,-60.5\"/>\n<text text-anchor=\"middle\" x=\"84.5\" y=\"-68.3\" font-family=\"Times,serif\" font-size=\"14.00\">root:0</text>\n<polyline fill=\"none\" stroke=\"black\" points=\"109,-60.5 109,-83.5 \"/>\n<text text-anchor=\"middle\" x=\"144.5\" y=\"-68.3\" font-family=\"Times,serif\" font-size=\"14.00\">position:0</text>\n<polyline fill=\"none\" stroke=\"black\" points=\"180,-60.5 180,-83.5 \"/>\n<text text-anchor=\"middle\" x=\"192\" y=\"-68.3\" font-family=\"Times,serif\" font-size=\"14.00\">S</text>\n<polyline fill=\"none\" stroke=\"black\" points=\"204,-60.5 204,-83.5 \"/>\n<text text-anchor=\"middle\" x=\"227.5\" y=\"-68.3\" font-family=\"Times,serif\" font-size=\"14.00\">(0, 1)</text>\n</g>\n<!-- node1 -->\n<g id=\"node2\" class=\"node\">\n<title>node1</title>\n<polygon fill=\"none\" stroke=\"black\" points=\"0,-0.5 0,-23.5 201,-23.5 201,-0.5 0,-0.5\"/>\n<text text-anchor=\"middle\" x=\"24.5\" y=\"-8.3\" font-family=\"Times,serif\" font-size=\"14.00\">root:0</text>\n<polyline fill=\"none\" stroke=\"black\" points=\"49,-0.5 49,-23.5 \"/>\n<text text-anchor=\"middle\" x=\"84.5\" y=\"-8.3\" font-family=\"Times,serif\" font-size=\"14.00\">position:1</text>\n<polyline fill=\"none\" stroke=\"black\" points=\"120,-0.5 120,-23.5 \"/>\n<text text-anchor=\"middle\" x=\"137\" y=\"-8.3\" font-family=\"Times,serif\" font-size=\"14.00\">NP</text>\n<polyline fill=\"none\" stroke=\"black\" points=\"154,-0.5 154,-23.5 \"/>\n<text text-anchor=\"middle\" x=\"177.5\" y=\"-8.3\" font-family=\"Times,serif\" font-size=\"14.00\">(0, 0)</text>\n</g>\n<!-- node0&#45;&gt;node1 -->\n<g id=\"edge1\" class=\"edge\">\n<title>node0:f0&#45;&gt;node1:f1</title>\n<path fill=\"none\" stroke=\"black\" d=\"M84.5,-60C84.5,-48 84.5,-42.75 84.5,-34.12\"/>\n<polygon fill=\"black\" stroke=\"black\" points=\"88,-34 84.5,-24 81,-34 88,-34\"/>\n</g>\n</g>\n</svg>\n",
      "text/plain": [
       "<graphviz.graphs.Digraph at 0x7fae9b724ac0>"
      ]
     },
     "metadata": {},
     "output_type": "display_data"
    },
    {
     "name": "stdout",
     "output_type": "stream",
     "text": [
      "0 2\n",
      "S: NP VP <- ((0, 1), (2, 2)) | 5.120000000000001e-09\n"
     ]
    },
    {
     "data": {
      "image/svg+xml": "<?xml version=\"1.0\" encoding=\"UTF-8\" standalone=\"no\"?>\n<!DOCTYPE svg PUBLIC \"-//W3C//DTD SVG 1.1//EN\"\n \"http://www.w3.org/Graphics/SVG/1.1/DTD/svg11.dtd\">\n<!-- Generated by graphviz version 2.43.0 (0)\n -->\n<!-- Title: g Pages: 1 -->\n<svg width=\"488pt\" height=\"152pt\"\n viewBox=\"0.00 0.00 488.00 152.00\" xmlns=\"http://www.w3.org/2000/svg\" xmlns:xlink=\"http://www.w3.org/1999/xlink\">\n<g id=\"graph0\" class=\"graph\" transform=\"scale(1 1) rotate(0) translate(4 148)\">\n<title>g</title>\n<polygon fill=\"white\" stroke=\"transparent\" points=\"-4,4 -4,-148 484,-148 484,4 -4,4\"/>\n<!-- node0 -->\n<g id=\"node1\" class=\"node\">\n<title>node0</title>\n<polygon fill=\"none\" stroke=\"black\" points=\"229,-120.5 229,-143.5 420,-143.5 420,-120.5 229,-120.5\"/>\n<text text-anchor=\"middle\" x=\"253.5\" y=\"-128.3\" font-family=\"Times,serif\" font-size=\"14.00\">root:0</text>\n<polyline fill=\"none\" stroke=\"black\" points=\"278,-120.5 278,-143.5 \"/>\n<text text-anchor=\"middle\" x=\"313.5\" y=\"-128.3\" font-family=\"Times,serif\" font-size=\"14.00\">position:0</text>\n<polyline fill=\"none\" stroke=\"black\" points=\"349,-120.5 349,-143.5 \"/>\n<text text-anchor=\"middle\" x=\"361\" y=\"-128.3\" font-family=\"Times,serif\" font-size=\"14.00\">S</text>\n<polyline fill=\"none\" stroke=\"black\" points=\"373,-120.5 373,-143.5 \"/>\n<text text-anchor=\"middle\" x=\"396.5\" y=\"-128.3\" font-family=\"Times,serif\" font-size=\"14.00\">(0, 2)</text>\n</g>\n<!-- node1 -->\n<g id=\"node2\" class=\"node\">\n<title>node1</title>\n<polygon fill=\"none\" stroke=\"black\" points=\"60,-60.5 60,-83.5 261,-83.5 261,-60.5 60,-60.5\"/>\n<text text-anchor=\"middle\" x=\"84.5\" y=\"-68.3\" font-family=\"Times,serif\" font-size=\"14.00\">root:0</text>\n<polyline fill=\"none\" stroke=\"black\" points=\"109,-60.5 109,-83.5 \"/>\n<text text-anchor=\"middle\" x=\"144.5\" y=\"-68.3\" font-family=\"Times,serif\" font-size=\"14.00\">position:1</text>\n<polyline fill=\"none\" stroke=\"black\" points=\"180,-60.5 180,-83.5 \"/>\n<text text-anchor=\"middle\" x=\"197\" y=\"-68.3\" font-family=\"Times,serif\" font-size=\"14.00\">NP</text>\n<polyline fill=\"none\" stroke=\"black\" points=\"214,-60.5 214,-83.5 \"/>\n<text text-anchor=\"middle\" x=\"237.5\" y=\"-68.3\" font-family=\"Times,serif\" font-size=\"14.00\">(0, 1)</text>\n</g>\n<!-- node0&#45;&gt;node1 -->\n<g id=\"edge1\" class=\"edge\">\n<title>node0:f0&#45;&gt;node1:f1</title>\n<path fill=\"none\" stroke=\"black\" d=\"M227.5,-132C188.55,-132 151.46,-127.5 145.37,-94.18\"/>\n<polygon fill=\"black\" stroke=\"black\" points=\"148.84,-93.67 144.5,-84 141.86,-94.26 148.84,-93.67\"/>\n</g>\n<!-- node3 -->\n<g id=\"node4\" class=\"node\">\n<title>node3</title>\n<polygon fill=\"none\" stroke=\"black\" points=\"279,-60.5 279,-83.5 480,-83.5 480,-60.5 279,-60.5\"/>\n<text text-anchor=\"middle\" x=\"303.5\" y=\"-68.3\" font-family=\"Times,serif\" font-size=\"14.00\">root:0</text>\n<polyline fill=\"none\" stroke=\"black\" points=\"328,-60.5 328,-83.5 \"/>\n<text text-anchor=\"middle\" x=\"363.5\" y=\"-68.3\" font-family=\"Times,serif\" font-size=\"14.00\">position:3</text>\n<polyline fill=\"none\" stroke=\"black\" points=\"399,-60.5 399,-83.5 \"/>\n<text text-anchor=\"middle\" x=\"416\" y=\"-68.3\" font-family=\"Times,serif\" font-size=\"14.00\">VP</text>\n<polyline fill=\"none\" stroke=\"black\" points=\"433,-60.5 433,-83.5 \"/>\n<text text-anchor=\"middle\" x=\"456.5\" y=\"-68.3\" font-family=\"Times,serif\" font-size=\"14.00\">(2, 2)</text>\n</g>\n<!-- node0&#45;&gt;node3 -->\n<g id=\"edge3\" class=\"edge\">\n<title>node0:f0&#45;&gt;node3:f1</title>\n<path fill=\"none\" stroke=\"black\" d=\"M253.5,-120C253.5,-72.58 346.98,-125.71 361.59,-94\"/>\n<polygon fill=\"black\" stroke=\"black\" points=\"365.06,-94.48 363.5,-84 358.19,-93.17 365.06,-94.48\"/>\n</g>\n<!-- node2 -->\n<g id=\"node3\" class=\"node\">\n<title>node2</title>\n<polygon fill=\"none\" stroke=\"black\" points=\"0,-0.5 0,-23.5 211,-23.5 211,-0.5 0,-0.5\"/>\n<text text-anchor=\"middle\" x=\"24.5\" y=\"-8.3\" font-family=\"Times,serif\" font-size=\"14.00\">root:1</text>\n<polyline fill=\"none\" stroke=\"black\" points=\"49,-0.5 49,-23.5 \"/>\n<text text-anchor=\"middle\" x=\"84.5\" y=\"-8.3\" font-family=\"Times,serif\" font-size=\"14.00\">position:2</text>\n<polyline fill=\"none\" stroke=\"black\" points=\"120,-0.5 120,-23.5 \"/>\n<text text-anchor=\"middle\" x=\"142\" y=\"-8.3\" font-family=\"Times,serif\" font-size=\"14.00\">Nom</text>\n<polyline fill=\"none\" stroke=\"black\" points=\"164,-0.5 164,-23.5 \"/>\n<text text-anchor=\"middle\" x=\"187.5\" y=\"-8.3\" font-family=\"Times,serif\" font-size=\"14.00\">(0, 0)</text>\n</g>\n<!-- node1&#45;&gt;node2 -->\n<g id=\"edge2\" class=\"edge\">\n<title>node1:f0&#45;&gt;node2:f1</title>\n<path fill=\"none\" stroke=\"black\" d=\"M84.5,-60C84.5,-48 84.5,-42.75 84.5,-34.12\"/>\n<polygon fill=\"black\" stroke=\"black\" points=\"88,-34 84.5,-24 81,-34 88,-34\"/>\n</g>\n</g>\n</svg>\n",
      "text/plain": [
       "<graphviz.graphs.Digraph at 0x7fae9b724ee0>"
      ]
     },
     "metadata": {},
     "output_type": "display_data"
    },
    {
     "name": "stdout",
     "output_type": "stream",
     "text": [
      "0 3\n",
      "0 4\n",
      "S: NP VP <- ((0, 0), (1, 4)) | 9.600000000000004e-13\n",
      "NP: Nom Nom <- ((0, 0), (1, 4)) | 2.400000000000001e-14\n",
      "S: NP VP <- ((0, 1), (2, 4)) | 1.1520000000000003e-13\n",
      "Nom: Nom PP <- ((0, 1), (2, 4)) | 6.000000000000003e-14\n"
     ]
    },
    {
     "data": {
      "image/svg+xml": "<?xml version=\"1.0\" encoding=\"UTF-8\" standalone=\"no\"?>\n<!DOCTYPE svg PUBLIC \"-//W3C//DTD SVG 1.1//EN\"\n \"http://www.w3.org/Graphics/SVG/1.1/DTD/svg11.dtd\">\n<!-- Generated by graphviz version 2.43.0 (0)\n -->\n<!-- Title: g Pages: 1 -->\n<svg width=\"596pt\" height=\"272pt\"\n viewBox=\"0.00 0.00 596.00 272.00\" xmlns=\"http://www.w3.org/2000/svg\" xmlns:xlink=\"http://www.w3.org/1999/xlink\">\n<g id=\"graph0\" class=\"graph\" transform=\"scale(1 1) rotate(0) translate(4 268)\">\n<title>g</title>\n<polygon fill=\"white\" stroke=\"transparent\" points=\"-4,4 -4,-268 592,-268 592,4 -4,4\"/>\n<!-- node0 -->\n<g id=\"node1\" class=\"node\">\n<title>node0</title>\n<polygon fill=\"none\" stroke=\"black\" points=\"169,-240.5 169,-263.5 360,-263.5 360,-240.5 169,-240.5\"/>\n<text text-anchor=\"middle\" x=\"193.5\" y=\"-248.3\" font-family=\"Times,serif\" font-size=\"14.00\">root:0</text>\n<polyline fill=\"none\" stroke=\"black\" points=\"218,-240.5 218,-263.5 \"/>\n<text text-anchor=\"middle\" x=\"253.5\" y=\"-248.3\" font-family=\"Times,serif\" font-size=\"14.00\">position:0</text>\n<polyline fill=\"none\" stroke=\"black\" points=\"289,-240.5 289,-263.5 \"/>\n<text text-anchor=\"middle\" x=\"301\" y=\"-248.3\" font-family=\"Times,serif\" font-size=\"14.00\">S</text>\n<polyline fill=\"none\" stroke=\"black\" points=\"313,-240.5 313,-263.5 \"/>\n<text text-anchor=\"middle\" x=\"336.5\" y=\"-248.3\" font-family=\"Times,serif\" font-size=\"14.00\">(0, 4)</text>\n</g>\n<!-- node1 -->\n<g id=\"node2\" class=\"node\">\n<title>node1</title>\n<polygon fill=\"none\" stroke=\"black\" points=\"0,-180.5 0,-203.5 201,-203.5 201,-180.5 0,-180.5\"/>\n<text text-anchor=\"middle\" x=\"24.5\" y=\"-188.3\" font-family=\"Times,serif\" font-size=\"14.00\">root:0</text>\n<polyline fill=\"none\" stroke=\"black\" points=\"49,-180.5 49,-203.5 \"/>\n<text text-anchor=\"middle\" x=\"84.5\" y=\"-188.3\" font-family=\"Times,serif\" font-size=\"14.00\">position:1</text>\n<polyline fill=\"none\" stroke=\"black\" points=\"120,-180.5 120,-203.5 \"/>\n<text text-anchor=\"middle\" x=\"137\" y=\"-188.3\" font-family=\"Times,serif\" font-size=\"14.00\">NP</text>\n<polyline fill=\"none\" stroke=\"black\" points=\"154,-180.5 154,-203.5 \"/>\n<text text-anchor=\"middle\" x=\"177.5\" y=\"-188.3\" font-family=\"Times,serif\" font-size=\"14.00\">(0, 0)</text>\n</g>\n<!-- node0&#45;&gt;node1 -->\n<g id=\"edge1\" class=\"edge\">\n<title>node0:f0&#45;&gt;node1:f1</title>\n<path fill=\"none\" stroke=\"black\" d=\"M167.5,-252C128.55,-252 91.46,-247.5 85.37,-214.18\"/>\n<polygon fill=\"black\" stroke=\"black\" points=\"88.84,-213.67 84.5,-204 81.86,-214.26 88.84,-213.67\"/>\n</g>\n<!-- node2 -->\n<g id=\"node3\" class=\"node\">\n<title>node2</title>\n<polygon fill=\"none\" stroke=\"black\" points=\"219,-180.5 219,-203.5 420,-203.5 420,-180.5 219,-180.5\"/>\n<text text-anchor=\"middle\" x=\"243.5\" y=\"-188.3\" font-family=\"Times,serif\" font-size=\"14.00\">root:0</text>\n<polyline fill=\"none\" stroke=\"black\" points=\"268,-180.5 268,-203.5 \"/>\n<text text-anchor=\"middle\" x=\"303.5\" y=\"-188.3\" font-family=\"Times,serif\" font-size=\"14.00\">position:2</text>\n<polyline fill=\"none\" stroke=\"black\" points=\"339,-180.5 339,-203.5 \"/>\n<text text-anchor=\"middle\" x=\"356\" y=\"-188.3\" font-family=\"Times,serif\" font-size=\"14.00\">VP</text>\n<polyline fill=\"none\" stroke=\"black\" points=\"373,-180.5 373,-203.5 \"/>\n<text text-anchor=\"middle\" x=\"396.5\" y=\"-188.3\" font-family=\"Times,serif\" font-size=\"14.00\">(1, 4)</text>\n</g>\n<!-- node0&#45;&gt;node2 -->\n<g id=\"edge2\" class=\"edge\">\n<title>node0:f0&#45;&gt;node2:f1</title>\n<path fill=\"none\" stroke=\"black\" d=\"M193.5,-240C193.5,-192.58 286.98,-245.71 301.59,-214\"/>\n<polygon fill=\"black\" stroke=\"black\" points=\"305.06,-214.48 303.5,-204 298.19,-213.17 305.06,-214.48\"/>\n</g>\n<!-- node3 -->\n<g id=\"node4\" class=\"node\">\n<title>node3</title>\n<polygon fill=\"none\" stroke=\"black\" points=\"45,-120.5 45,-143.5 256,-143.5 256,-120.5 45,-120.5\"/>\n<text text-anchor=\"middle\" x=\"69.5\" y=\"-128.3\" font-family=\"Times,serif\" font-size=\"14.00\">root:2</text>\n<polyline fill=\"none\" stroke=\"black\" points=\"94,-120.5 94,-143.5 \"/>\n<text text-anchor=\"middle\" x=\"129.5\" y=\"-128.3\" font-family=\"Times,serif\" font-size=\"14.00\">position:3</text>\n<polyline fill=\"none\" stroke=\"black\" points=\"165,-120.5 165,-143.5 \"/>\n<text text-anchor=\"middle\" x=\"187\" y=\"-128.3\" font-family=\"Times,serif\" font-size=\"14.00\">Verb</text>\n<polyline fill=\"none\" stroke=\"black\" points=\"209,-120.5 209,-143.5 \"/>\n<text text-anchor=\"middle\" x=\"232.5\" y=\"-128.3\" font-family=\"Times,serif\" font-size=\"14.00\">(1, 1)</text>\n</g>\n<!-- node2&#45;&gt;node3 -->\n<g id=\"edge3\" class=\"edge\">\n<title>node2:f0&#45;&gt;node3:f1</title>\n<path fill=\"none\" stroke=\"black\" d=\"M217.5,-192C211.33,-192 215.1,-184.12 210.5,-180 184.14,-156.38 139.76,-177.94 131.02,-154\"/>\n<polygon fill=\"black\" stroke=\"black\" points=\"134.46,-153.36 129.5,-144 127.54,-154.41 134.46,-153.36\"/>\n</g>\n<!-- node4 -->\n<g id=\"node5\" class=\"node\">\n<title>node4</title>\n<polygon fill=\"none\" stroke=\"black\" points=\"274,-120.5 274,-143.5 473,-143.5 473,-120.5 274,-120.5\"/>\n<text text-anchor=\"middle\" x=\"298.5\" y=\"-128.3\" font-family=\"Times,serif\" font-size=\"14.00\">root:2</text>\n<polyline fill=\"none\" stroke=\"black\" points=\"323,-120.5 323,-143.5 \"/>\n<text text-anchor=\"middle\" x=\"358.5\" y=\"-128.3\" font-family=\"Times,serif\" font-size=\"14.00\">position:4</text>\n<polyline fill=\"none\" stroke=\"black\" points=\"394,-120.5 394,-143.5 \"/>\n<text text-anchor=\"middle\" x=\"410\" y=\"-128.3\" font-family=\"Times,serif\" font-size=\"14.00\">PP</text>\n<polyline fill=\"none\" stroke=\"black\" points=\"426,-120.5 426,-143.5 \"/>\n<text text-anchor=\"middle\" x=\"449.5\" y=\"-128.3\" font-family=\"Times,serif\" font-size=\"14.00\">(2, 4)</text>\n</g>\n<!-- node2&#45;&gt;node4 -->\n<g id=\"edge4\" class=\"edge\">\n<title>node2:f0&#45;&gt;node4:f1</title>\n<path fill=\"none\" stroke=\"black\" d=\"M243.5,-180C243.5,-130.42 342.06,-187.69 356.69,-153.97\"/>\n<polygon fill=\"black\" stroke=\"black\" points=\"360.16,-154.46 358.5,-144 353.27,-153.22 360.16,-154.46\"/>\n</g>\n<!-- node5 -->\n<g id=\"node6\" class=\"node\">\n<title>node5</title>\n<polygon fill=\"none\" stroke=\"black\" points=\"100.5,-60.5 100.5,-83.5 308.5,-83.5 308.5,-60.5 100.5,-60.5\"/>\n<text text-anchor=\"middle\" x=\"125\" y=\"-68.3\" font-family=\"Times,serif\" font-size=\"14.00\">root:4</text>\n<polyline fill=\"none\" stroke=\"black\" points=\"149.5,-60.5 149.5,-83.5 \"/>\n<text text-anchor=\"middle\" x=\"185\" y=\"-68.3\" font-family=\"Times,serif\" font-size=\"14.00\">position:5</text>\n<polyline fill=\"none\" stroke=\"black\" points=\"220.5,-60.5 220.5,-83.5 \"/>\n<text text-anchor=\"middle\" x=\"241\" y=\"-68.3\" font-family=\"Times,serif\" font-size=\"14.00\">Prep</text>\n<polyline fill=\"none\" stroke=\"black\" points=\"261.5,-60.5 261.5,-83.5 \"/>\n<text text-anchor=\"middle\" x=\"285\" y=\"-68.3\" font-family=\"Times,serif\" font-size=\"14.00\">(2, 2)</text>\n</g>\n<!-- node4&#45;&gt;node5 -->\n<g id=\"edge5\" class=\"edge\">\n<title>node4:f0&#45;&gt;node5:f1</title>\n<path fill=\"none\" stroke=\"black\" d=\"M272.5,-132C266.33,-132 270.1,-124.12 265.5,-120 239.14,-96.38 194.76,-117.94 186.02,-94\"/>\n<polygon fill=\"black\" stroke=\"black\" points=\"189.46,-93.36 184.5,-84 182.54,-94.41 189.46,-93.36\"/>\n</g>\n<!-- node6 -->\n<g id=\"node7\" class=\"node\">\n<title>node6</title>\n<polygon fill=\"none\" stroke=\"black\" points=\"327,-60.5 327,-83.5 528,-83.5 528,-60.5 327,-60.5\"/>\n<text text-anchor=\"middle\" x=\"351.5\" y=\"-68.3\" font-family=\"Times,serif\" font-size=\"14.00\">root:4</text>\n<polyline fill=\"none\" stroke=\"black\" points=\"376,-60.5 376,-83.5 \"/>\n<text text-anchor=\"middle\" x=\"411.5\" y=\"-68.3\" font-family=\"Times,serif\" font-size=\"14.00\">position:6</text>\n<polyline fill=\"none\" stroke=\"black\" points=\"447,-60.5 447,-83.5 \"/>\n<text text-anchor=\"middle\" x=\"464\" y=\"-68.3\" font-family=\"Times,serif\" font-size=\"14.00\">NP</text>\n<polyline fill=\"none\" stroke=\"black\" points=\"481,-60.5 481,-83.5 \"/>\n<text text-anchor=\"middle\" x=\"504.5\" y=\"-68.3\" font-family=\"Times,serif\" font-size=\"14.00\">(3, 4)</text>\n</g>\n<!-- node4&#45;&gt;node6 -->\n<g id=\"edge6\" class=\"edge\">\n<title>node4:f0&#45;&gt;node6:f1</title>\n<path fill=\"none\" stroke=\"black\" d=\"M298.5,-120C298.5,-71.41 394.53,-126.61 409.54,-94.23\"/>\n<polygon fill=\"black\" stroke=\"black\" points=\"413.06,-94.48 411.5,-84 406.18,-93.16 413.06,-94.48\"/>\n</g>\n<!-- node7 -->\n<g id=\"node8\" class=\"node\">\n<title>node7</title>\n<polygon fill=\"none\" stroke=\"black\" points=\"156,-0.5 156,-23.5 359,-23.5 359,-0.5 156,-0.5\"/>\n<text text-anchor=\"middle\" x=\"180.5\" y=\"-8.3\" font-family=\"Times,serif\" font-size=\"14.00\">root:6</text>\n<polyline fill=\"none\" stroke=\"black\" points=\"205,-0.5 205,-23.5 \"/>\n<text text-anchor=\"middle\" x=\"240.5\" y=\"-8.3\" font-family=\"Times,serif\" font-size=\"14.00\">position:7</text>\n<polyline fill=\"none\" stroke=\"black\" points=\"276,-0.5 276,-23.5 \"/>\n<text text-anchor=\"middle\" x=\"294\" y=\"-8.3\" font-family=\"Times,serif\" font-size=\"14.00\">Det</text>\n<polyline fill=\"none\" stroke=\"black\" points=\"312,-0.5 312,-23.5 \"/>\n<text text-anchor=\"middle\" x=\"335.5\" y=\"-8.3\" font-family=\"Times,serif\" font-size=\"14.00\">(3, 3)</text>\n</g>\n<!-- node6&#45;&gt;node7 -->\n<g id=\"edge7\" class=\"edge\">\n<title>node6:f0&#45;&gt;node7:f1</title>\n<path fill=\"none\" stroke=\"black\" d=\"M325.5,-72C319.09,-72 322.36,-64.18 317.5,-60 291.87,-37.97 250.48,-56.78 242.03,-33.95\"/>\n<polygon fill=\"black\" stroke=\"black\" points=\"245.48,-33.35 240.5,-24 238.56,-34.42 245.48,-33.35\"/>\n</g>\n<!-- node8 -->\n<g id=\"node9\" class=\"node\">\n<title>node8</title>\n<polygon fill=\"none\" stroke=\"black\" points=\"377,-0.5 377,-23.5 588,-23.5 588,-0.5 377,-0.5\"/>\n<text text-anchor=\"middle\" x=\"401.5\" y=\"-8.3\" font-family=\"Times,serif\" font-size=\"14.00\">root:6</text>\n<polyline fill=\"none\" stroke=\"black\" points=\"426,-0.5 426,-23.5 \"/>\n<text text-anchor=\"middle\" x=\"461.5\" y=\"-8.3\" font-family=\"Times,serif\" font-size=\"14.00\">position:8</text>\n<polyline fill=\"none\" stroke=\"black\" points=\"497,-0.5 497,-23.5 \"/>\n<text text-anchor=\"middle\" x=\"519\" y=\"-8.3\" font-family=\"Times,serif\" font-size=\"14.00\">Nom</text>\n<polyline fill=\"none\" stroke=\"black\" points=\"541,-0.5 541,-23.5 \"/>\n<text text-anchor=\"middle\" x=\"564.5\" y=\"-8.3\" font-family=\"Times,serif\" font-size=\"14.00\">(4, 4)</text>\n</g>\n<!-- node6&#45;&gt;node8 -->\n<g id=\"edge8\" class=\"edge\">\n<title>node6:f0&#45;&gt;node8:f1</title>\n<path fill=\"none\" stroke=\"black\" d=\"M351.5,-60C351.5,-12.58 444.98,-65.71 459.59,-34\"/>\n<polygon fill=\"black\" stroke=\"black\" points=\"463.06,-34.48 461.5,-24 456.19,-33.17 463.06,-34.48\"/>\n</g>\n</g>\n</svg>\n",
      "text/plain": [
       "<graphviz.graphs.Digraph at 0x7fae9b7249d0>"
      ]
     },
     "metadata": {},
     "output_type": "display_data"
    },
    {
     "name": "stdout",
     "output_type": "stream",
     "text": [
      "1 0\n",
      "1 1\n",
      "NP: ('time', 'flies', 'arrow') <- - | 0.002\n",
      "Nom: ('time', 'flies', 'arrow') <- - | 0.002\n",
      "VP: ('flies', 'like') <- - | 0.008\n",
      "Verb: ('flies', 'like') <- - | 0.02\n",
      "Noun: ('time', 'flies', 'arrow') <- - | 0.01\n"
     ]
    },
    {
     "data": {
      "image/svg+xml": "<?xml version=\"1.0\" encoding=\"UTF-8\" standalone=\"no\"?>\n<!DOCTYPE svg PUBLIC \"-//W3C//DTD SVG 1.1//EN\"\n \"http://www.w3.org/Graphics/SVG/1.1/DTD/svg11.dtd\">\n<!-- Generated by graphviz version 2.43.0 (0)\n -->\n<!-- Title: g Pages: 1 -->\n<svg width=\"219pt\" height=\"32pt\"\n viewBox=\"0.00 0.00 219.00 32.00\" xmlns=\"http://www.w3.org/2000/svg\" xmlns:xlink=\"http://www.w3.org/1999/xlink\">\n<g id=\"graph0\" class=\"graph\" transform=\"scale(1 1) rotate(0) translate(4 28)\">\n<title>g</title>\n<polygon fill=\"white\" stroke=\"transparent\" points=\"-4,4 -4,-28 215,-28 215,4 -4,4\"/>\n<!-- node0 -->\n<g id=\"node1\" class=\"node\">\n<title>node0</title>\n<polygon fill=\"none\" stroke=\"black\" points=\"0,-0.5 0,-23.5 211,-23.5 211,-0.5 0,-0.5\"/>\n<text text-anchor=\"middle\" x=\"24.5\" y=\"-8.3\" font-family=\"Times,serif\" font-size=\"14.00\">root:0</text>\n<polyline fill=\"none\" stroke=\"black\" points=\"49,-0.5 49,-23.5 \"/>\n<text text-anchor=\"middle\" x=\"84.5\" y=\"-8.3\" font-family=\"Times,serif\" font-size=\"14.00\">position:0</text>\n<polyline fill=\"none\" stroke=\"black\" points=\"120,-0.5 120,-23.5 \"/>\n<text text-anchor=\"middle\" x=\"142\" y=\"-8.3\" font-family=\"Times,serif\" font-size=\"14.00\">Verb</text>\n<polyline fill=\"none\" stroke=\"black\" points=\"164,-0.5 164,-23.5 \"/>\n<text text-anchor=\"middle\" x=\"187.5\" y=\"-8.3\" font-family=\"Times,serif\" font-size=\"14.00\">(1, 1)</text>\n</g>\n</g>\n</svg>\n",
      "text/plain": [
       "<graphviz.graphs.Digraph at 0x7fae9b724ac0>"
      ]
     },
     "metadata": {},
     "output_type": "display_data"
    },
    {
     "name": "stdout",
     "output_type": "stream",
     "text": [
      "1 2\n",
      "S: NP VP <- ((1, 1), (2, 2)) | 1.2800000000000001e-05\n"
     ]
    },
    {
     "data": {
      "image/svg+xml": "<?xml version=\"1.0\" encoding=\"UTF-8\" standalone=\"no\"?>\n<!DOCTYPE svg PUBLIC \"-//W3C//DTD SVG 1.1//EN\"\n \"http://www.w3.org/Graphics/SVG/1.1/DTD/svg11.dtd\">\n<!-- Generated by graphviz version 2.43.0 (0)\n -->\n<!-- Title: g Pages: 1 -->\n<svg width=\"428pt\" height=\"92pt\"\n viewBox=\"0.00 0.00 428.00 92.00\" xmlns=\"http://www.w3.org/2000/svg\" xmlns:xlink=\"http://www.w3.org/1999/xlink\">\n<g id=\"graph0\" class=\"graph\" transform=\"scale(1 1) rotate(0) translate(4 88)\">\n<title>g</title>\n<polygon fill=\"white\" stroke=\"transparent\" points=\"-4,4 -4,-88 424,-88 424,4 -4,4\"/>\n<!-- node0 -->\n<g id=\"node1\" class=\"node\">\n<title>node0</title>\n<polygon fill=\"none\" stroke=\"black\" points=\"169,-60.5 169,-83.5 360,-83.5 360,-60.5 169,-60.5\"/>\n<text text-anchor=\"middle\" x=\"193.5\" y=\"-68.3\" font-family=\"Times,serif\" font-size=\"14.00\">root:0</text>\n<polyline fill=\"none\" stroke=\"black\" points=\"218,-60.5 218,-83.5 \"/>\n<text text-anchor=\"middle\" x=\"253.5\" y=\"-68.3\" font-family=\"Times,serif\" font-size=\"14.00\">position:0</text>\n<polyline fill=\"none\" stroke=\"black\" points=\"289,-60.5 289,-83.5 \"/>\n<text text-anchor=\"middle\" x=\"301\" y=\"-68.3\" font-family=\"Times,serif\" font-size=\"14.00\">S</text>\n<polyline fill=\"none\" stroke=\"black\" points=\"313,-60.5 313,-83.5 \"/>\n<text text-anchor=\"middle\" x=\"336.5\" y=\"-68.3\" font-family=\"Times,serif\" font-size=\"14.00\">(1, 2)</text>\n</g>\n<!-- node1 -->\n<g id=\"node2\" class=\"node\">\n<title>node1</title>\n<polygon fill=\"none\" stroke=\"black\" points=\"0,-0.5 0,-23.5 201,-23.5 201,-0.5 0,-0.5\"/>\n<text text-anchor=\"middle\" x=\"24.5\" y=\"-8.3\" font-family=\"Times,serif\" font-size=\"14.00\">root:0</text>\n<polyline fill=\"none\" stroke=\"black\" points=\"49,-0.5 49,-23.5 \"/>\n<text text-anchor=\"middle\" x=\"84.5\" y=\"-8.3\" font-family=\"Times,serif\" font-size=\"14.00\">position:1</text>\n<polyline fill=\"none\" stroke=\"black\" points=\"120,-0.5 120,-23.5 \"/>\n<text text-anchor=\"middle\" x=\"137\" y=\"-8.3\" font-family=\"Times,serif\" font-size=\"14.00\">NP</text>\n<polyline fill=\"none\" stroke=\"black\" points=\"154,-0.5 154,-23.5 \"/>\n<text text-anchor=\"middle\" x=\"177.5\" y=\"-8.3\" font-family=\"Times,serif\" font-size=\"14.00\">(1, 1)</text>\n</g>\n<!-- node0&#45;&gt;node1 -->\n<g id=\"edge1\" class=\"edge\">\n<title>node0:f0&#45;&gt;node1:f1</title>\n<path fill=\"none\" stroke=\"black\" d=\"M167.5,-72C128.55,-72 91.46,-67.5 85.37,-34.18\"/>\n<polygon fill=\"black\" stroke=\"black\" points=\"88.84,-33.67 84.5,-24 81.86,-34.26 88.84,-33.67\"/>\n</g>\n<!-- node2 -->\n<g id=\"node3\" class=\"node\">\n<title>node2</title>\n<polygon fill=\"none\" stroke=\"black\" points=\"219,-0.5 219,-23.5 420,-23.5 420,-0.5 219,-0.5\"/>\n<text text-anchor=\"middle\" x=\"243.5\" y=\"-8.3\" font-family=\"Times,serif\" font-size=\"14.00\">root:0</text>\n<polyline fill=\"none\" stroke=\"black\" points=\"268,-0.5 268,-23.5 \"/>\n<text text-anchor=\"middle\" x=\"303.5\" y=\"-8.3\" font-family=\"Times,serif\" font-size=\"14.00\">position:2</text>\n<polyline fill=\"none\" stroke=\"black\" points=\"339,-0.5 339,-23.5 \"/>\n<text text-anchor=\"middle\" x=\"356\" y=\"-8.3\" font-family=\"Times,serif\" font-size=\"14.00\">VP</text>\n<polyline fill=\"none\" stroke=\"black\" points=\"373,-0.5 373,-23.5 \"/>\n<text text-anchor=\"middle\" x=\"396.5\" y=\"-8.3\" font-family=\"Times,serif\" font-size=\"14.00\">(2, 2)</text>\n</g>\n<!-- node0&#45;&gt;node2 -->\n<g id=\"edge2\" class=\"edge\">\n<title>node0:f0&#45;&gt;node2:f1</title>\n<path fill=\"none\" stroke=\"black\" d=\"M193.5,-60C193.5,-12.58 286.98,-65.71 301.59,-34\"/>\n<polygon fill=\"black\" stroke=\"black\" points=\"305.06,-34.48 303.5,-24 298.19,-33.17 305.06,-34.48\"/>\n</g>\n</g>\n</svg>\n",
      "text/plain": [
       "<graphviz.graphs.Digraph at 0x7fae9b724cd0>"
      ]
     },
     "metadata": {},
     "output_type": "display_data"
    },
    {
     "name": "stdout",
     "output_type": "stream",
     "text": [
      "1 3\n",
      "1 4\n",
      "S: NP VP <- ((1, 1), (2, 4)) | 2.88e-10\n",
      "Nom: Nom PP <- ((1, 1), (2, 4)) | 6.000000000000003e-11\n",
      "VP: Verb PP <- ((1, 1), (2, 4)) | 6.000000000000002e-10\n"
     ]
    },
    {
     "data": {
      "image/svg+xml": "<?xml version=\"1.0\" encoding=\"UTF-8\" standalone=\"no\"?>\n<!DOCTYPE svg PUBLIC \"-//W3C//DTD SVG 1.1//EN\"\n \"http://www.w3.org/Graphics/SVG/1.1/DTD/svg11.dtd\">\n<!-- Generated by graphviz version 2.43.0 (0)\n -->\n<!-- Title: g Pages: 1 -->\n<svg width=\"551pt\" height=\"212pt\"\n viewBox=\"0.00 0.00 551.00 212.00\" xmlns=\"http://www.w3.org/2000/svg\" xmlns:xlink=\"http://www.w3.org/1999/xlink\">\n<g id=\"graph0\" class=\"graph\" transform=\"scale(1 1) rotate(0) translate(4 208)\">\n<title>g</title>\n<polygon fill=\"white\" stroke=\"transparent\" points=\"-4,4 -4,-208 547,-208 547,4 -4,4\"/>\n<!-- node0 -->\n<g id=\"node1\" class=\"node\">\n<title>node0</title>\n<polygon fill=\"none\" stroke=\"black\" points=\"174,-180.5 174,-203.5 375,-203.5 375,-180.5 174,-180.5\"/>\n<text text-anchor=\"middle\" x=\"198.5\" y=\"-188.3\" font-family=\"Times,serif\" font-size=\"14.00\">root:0</text>\n<polyline fill=\"none\" stroke=\"black\" points=\"223,-180.5 223,-203.5 \"/>\n<text text-anchor=\"middle\" x=\"258.5\" y=\"-188.3\" font-family=\"Times,serif\" font-size=\"14.00\">position:0</text>\n<polyline fill=\"none\" stroke=\"black\" points=\"294,-180.5 294,-203.5 \"/>\n<text text-anchor=\"middle\" x=\"311\" y=\"-188.3\" font-family=\"Times,serif\" font-size=\"14.00\">VP</text>\n<polyline fill=\"none\" stroke=\"black\" points=\"328,-180.5 328,-203.5 \"/>\n<text text-anchor=\"middle\" x=\"351.5\" y=\"-188.3\" font-family=\"Times,serif\" font-size=\"14.00\">(1, 4)</text>\n</g>\n<!-- node1 -->\n<g id=\"node2\" class=\"node\">\n<title>node1</title>\n<polygon fill=\"none\" stroke=\"black\" points=\"0,-120.5 0,-143.5 211,-143.5 211,-120.5 0,-120.5\"/>\n<text text-anchor=\"middle\" x=\"24.5\" y=\"-128.3\" font-family=\"Times,serif\" font-size=\"14.00\">root:0</text>\n<polyline fill=\"none\" stroke=\"black\" points=\"49,-120.5 49,-143.5 \"/>\n<text text-anchor=\"middle\" x=\"84.5\" y=\"-128.3\" font-family=\"Times,serif\" font-size=\"14.00\">position:1</text>\n<polyline fill=\"none\" stroke=\"black\" points=\"120,-120.5 120,-143.5 \"/>\n<text text-anchor=\"middle\" x=\"142\" y=\"-128.3\" font-family=\"Times,serif\" font-size=\"14.00\">Verb</text>\n<polyline fill=\"none\" stroke=\"black\" points=\"164,-120.5 164,-143.5 \"/>\n<text text-anchor=\"middle\" x=\"187.5\" y=\"-128.3\" font-family=\"Times,serif\" font-size=\"14.00\">(1, 1)</text>\n</g>\n<!-- node0&#45;&gt;node1 -->\n<g id=\"edge1\" class=\"edge\">\n<title>node0:f0&#45;&gt;node1:f1</title>\n<path fill=\"none\" stroke=\"black\" d=\"M172.5,-192C131.6,-192 91.64,-189.09 85.35,-154.15\"/>\n<polygon fill=\"black\" stroke=\"black\" points=\"88.83,-153.67 84.5,-144 81.85,-154.26 88.83,-153.67\"/>\n</g>\n<!-- node2 -->\n<g id=\"node3\" class=\"node\">\n<title>node2</title>\n<polygon fill=\"none\" stroke=\"black\" points=\"229,-120.5 229,-143.5 428,-143.5 428,-120.5 229,-120.5\"/>\n<text text-anchor=\"middle\" x=\"253.5\" y=\"-128.3\" font-family=\"Times,serif\" font-size=\"14.00\">root:0</text>\n<polyline fill=\"none\" stroke=\"black\" points=\"278,-120.5 278,-143.5 \"/>\n<text text-anchor=\"middle\" x=\"313.5\" y=\"-128.3\" font-family=\"Times,serif\" font-size=\"14.00\">position:2</text>\n<polyline fill=\"none\" stroke=\"black\" points=\"349,-120.5 349,-143.5 \"/>\n<text text-anchor=\"middle\" x=\"365\" y=\"-128.3\" font-family=\"Times,serif\" font-size=\"14.00\">PP</text>\n<polyline fill=\"none\" stroke=\"black\" points=\"381,-120.5 381,-143.5 \"/>\n<text text-anchor=\"middle\" x=\"404.5\" y=\"-128.3\" font-family=\"Times,serif\" font-size=\"14.00\">(2, 4)</text>\n</g>\n<!-- node0&#45;&gt;node2 -->\n<g id=\"edge2\" class=\"edge\">\n<title>node0:f0&#45;&gt;node2:f1</title>\n<path fill=\"none\" stroke=\"black\" d=\"M198.5,-180C198.5,-130.42 297.06,-187.69 311.69,-153.97\"/>\n<polygon fill=\"black\" stroke=\"black\" points=\"315.16,-154.46 313.5,-144 308.27,-153.22 315.16,-154.46\"/>\n</g>\n<!-- node3 -->\n<g id=\"node4\" class=\"node\">\n<title>node3</title>\n<polygon fill=\"none\" stroke=\"black\" points=\"55.5,-60.5 55.5,-83.5 263.5,-83.5 263.5,-60.5 55.5,-60.5\"/>\n<text text-anchor=\"middle\" x=\"80\" y=\"-68.3\" font-family=\"Times,serif\" font-size=\"14.00\">root:2</text>\n<polyline fill=\"none\" stroke=\"black\" points=\"104.5,-60.5 104.5,-83.5 \"/>\n<text text-anchor=\"middle\" x=\"140\" y=\"-68.3\" font-family=\"Times,serif\" font-size=\"14.00\">position:3</text>\n<polyline fill=\"none\" stroke=\"black\" points=\"175.5,-60.5 175.5,-83.5 \"/>\n<text text-anchor=\"middle\" x=\"196\" y=\"-68.3\" font-family=\"Times,serif\" font-size=\"14.00\">Prep</text>\n<polyline fill=\"none\" stroke=\"black\" points=\"216.5,-60.5 216.5,-83.5 \"/>\n<text text-anchor=\"middle\" x=\"240\" y=\"-68.3\" font-family=\"Times,serif\" font-size=\"14.00\">(2, 2)</text>\n</g>\n<!-- node2&#45;&gt;node3 -->\n<g id=\"edge3\" class=\"edge\">\n<title>node2:f0&#45;&gt;node3:f1</title>\n<path fill=\"none\" stroke=\"black\" d=\"M227.5,-132C221.33,-132 225.1,-124.12 220.5,-120 194.14,-96.38 149.76,-117.94 141.02,-94\"/>\n<polygon fill=\"black\" stroke=\"black\" points=\"144.46,-93.36 139.5,-84 137.54,-94.41 144.46,-93.36\"/>\n</g>\n<!-- node4 -->\n<g id=\"node5\" class=\"node\">\n<title>node4</title>\n<polygon fill=\"none\" stroke=\"black\" points=\"282,-60.5 282,-83.5 483,-83.5 483,-60.5 282,-60.5\"/>\n<text text-anchor=\"middle\" x=\"306.5\" y=\"-68.3\" font-family=\"Times,serif\" font-size=\"14.00\">root:2</text>\n<polyline fill=\"none\" stroke=\"black\" points=\"331,-60.5 331,-83.5 \"/>\n<text text-anchor=\"middle\" x=\"366.5\" y=\"-68.3\" font-family=\"Times,serif\" font-size=\"14.00\">position:4</text>\n<polyline fill=\"none\" stroke=\"black\" points=\"402,-60.5 402,-83.5 \"/>\n<text text-anchor=\"middle\" x=\"419\" y=\"-68.3\" font-family=\"Times,serif\" font-size=\"14.00\">NP</text>\n<polyline fill=\"none\" stroke=\"black\" points=\"436,-60.5 436,-83.5 \"/>\n<text text-anchor=\"middle\" x=\"459.5\" y=\"-68.3\" font-family=\"Times,serif\" font-size=\"14.00\">(3, 4)</text>\n</g>\n<!-- node2&#45;&gt;node4 -->\n<g id=\"edge4\" class=\"edge\">\n<title>node2:f0&#45;&gt;node4:f1</title>\n<path fill=\"none\" stroke=\"black\" d=\"M253.5,-120C253.5,-71.41 349.53,-126.61 364.54,-94.23\"/>\n<polygon fill=\"black\" stroke=\"black\" points=\"368.06,-94.48 366.5,-84 361.18,-93.16 368.06,-94.48\"/>\n</g>\n<!-- node5 -->\n<g id=\"node6\" class=\"node\">\n<title>node5</title>\n<polygon fill=\"none\" stroke=\"black\" points=\"111,-0.5 111,-23.5 314,-23.5 314,-0.5 111,-0.5\"/>\n<text text-anchor=\"middle\" x=\"135.5\" y=\"-8.3\" font-family=\"Times,serif\" font-size=\"14.00\">root:4</text>\n<polyline fill=\"none\" stroke=\"black\" points=\"160,-0.5 160,-23.5 \"/>\n<text text-anchor=\"middle\" x=\"195.5\" y=\"-8.3\" font-family=\"Times,serif\" font-size=\"14.00\">position:5</text>\n<polyline fill=\"none\" stroke=\"black\" points=\"231,-0.5 231,-23.5 \"/>\n<text text-anchor=\"middle\" x=\"249\" y=\"-8.3\" font-family=\"Times,serif\" font-size=\"14.00\">Det</text>\n<polyline fill=\"none\" stroke=\"black\" points=\"267,-0.5 267,-23.5 \"/>\n<text text-anchor=\"middle\" x=\"290.5\" y=\"-8.3\" font-family=\"Times,serif\" font-size=\"14.00\">(3, 3)</text>\n</g>\n<!-- node4&#45;&gt;node5 -->\n<g id=\"edge5\" class=\"edge\">\n<title>node4:f0&#45;&gt;node5:f1</title>\n<path fill=\"none\" stroke=\"black\" d=\"M280.5,-72C274.09,-72 277.36,-64.18 272.5,-60 246.87,-37.97 205.48,-56.78 197.03,-33.95\"/>\n<polygon fill=\"black\" stroke=\"black\" points=\"200.48,-33.35 195.5,-24 193.56,-34.42 200.48,-33.35\"/>\n</g>\n<!-- node6 -->\n<g id=\"node7\" class=\"node\">\n<title>node6</title>\n<polygon fill=\"none\" stroke=\"black\" points=\"332,-0.5 332,-23.5 543,-23.5 543,-0.5 332,-0.5\"/>\n<text text-anchor=\"middle\" x=\"356.5\" y=\"-8.3\" font-family=\"Times,serif\" font-size=\"14.00\">root:4</text>\n<polyline fill=\"none\" stroke=\"black\" points=\"381,-0.5 381,-23.5 \"/>\n<text text-anchor=\"middle\" x=\"416.5\" y=\"-8.3\" font-family=\"Times,serif\" font-size=\"14.00\">position:6</text>\n<polyline fill=\"none\" stroke=\"black\" points=\"452,-0.5 452,-23.5 \"/>\n<text text-anchor=\"middle\" x=\"474\" y=\"-8.3\" font-family=\"Times,serif\" font-size=\"14.00\">Nom</text>\n<polyline fill=\"none\" stroke=\"black\" points=\"496,-0.5 496,-23.5 \"/>\n<text text-anchor=\"middle\" x=\"519.5\" y=\"-8.3\" font-family=\"Times,serif\" font-size=\"14.00\">(4, 4)</text>\n</g>\n<!-- node4&#45;&gt;node6 -->\n<g id=\"edge6\" class=\"edge\">\n<title>node4:f0&#45;&gt;node6:f1</title>\n<path fill=\"none\" stroke=\"black\" d=\"M306.5,-60C306.5,-12.58 399.98,-65.71 414.59,-34\"/>\n<polygon fill=\"black\" stroke=\"black\" points=\"418.06,-34.48 416.5,-24 411.19,-33.17 418.06,-34.48\"/>\n</g>\n</g>\n</svg>\n",
      "text/plain": [
       "<graphviz.graphs.Digraph at 0x7fae9b725a20>"
      ]
     },
     "metadata": {},
     "output_type": "display_data"
    },
    {
     "name": "stdout",
     "output_type": "stream",
     "text": [
      "2 0\n",
      "2 1\n",
      "2 2\n",
      "VP: ('flies', 'like') <- - | 0.008\n",
      "Verb: ('flies', 'like') <- - | 0.02\n",
      "Prep: like <- - | 0.05\n"
     ]
    },
    {
     "data": {
      "image/svg+xml": "<?xml version=\"1.0\" encoding=\"UTF-8\" standalone=\"no\"?>\n<!DOCTYPE svg PUBLIC \"-//W3C//DTD SVG 1.1//EN\"\n \"http://www.w3.org/Graphics/SVG/1.1/DTD/svg11.dtd\">\n<!-- Generated by graphviz version 2.43.0 (0)\n -->\n<!-- Title: g Pages: 1 -->\n<svg width=\"216pt\" height=\"32pt\"\n viewBox=\"0.00 0.00 216.00 32.00\" xmlns=\"http://www.w3.org/2000/svg\" xmlns:xlink=\"http://www.w3.org/1999/xlink\">\n<g id=\"graph0\" class=\"graph\" transform=\"scale(1 1) rotate(0) translate(4 28)\">\n<title>g</title>\n<polygon fill=\"white\" stroke=\"transparent\" points=\"-4,4 -4,-28 212,-28 212,4 -4,4\"/>\n<!-- node0 -->\n<g id=\"node1\" class=\"node\">\n<title>node0</title>\n<polygon fill=\"none\" stroke=\"black\" points=\"0,-0.5 0,-23.5 208,-23.5 208,-0.5 0,-0.5\"/>\n<text text-anchor=\"middle\" x=\"24.5\" y=\"-8.3\" font-family=\"Times,serif\" font-size=\"14.00\">root:0</text>\n<polyline fill=\"none\" stroke=\"black\" points=\"49,-0.5 49,-23.5 \"/>\n<text text-anchor=\"middle\" x=\"84.5\" y=\"-8.3\" font-family=\"Times,serif\" font-size=\"14.00\">position:0</text>\n<polyline fill=\"none\" stroke=\"black\" points=\"120,-0.5 120,-23.5 \"/>\n<text text-anchor=\"middle\" x=\"140.5\" y=\"-8.3\" font-family=\"Times,serif\" font-size=\"14.00\">Prep</text>\n<polyline fill=\"none\" stroke=\"black\" points=\"161,-0.5 161,-23.5 \"/>\n<text text-anchor=\"middle\" x=\"184.5\" y=\"-8.3\" font-family=\"Times,serif\" font-size=\"14.00\">(2, 2)</text>\n</g>\n</g>\n</svg>\n",
      "text/plain": [
       "<graphviz.graphs.Digraph at 0x7fae9b724820>"
      ]
     },
     "metadata": {},
     "output_type": "display_data"
    },
    {
     "name": "stdout",
     "output_type": "stream",
     "text": [
      "2 3\n",
      "2 4\n",
      "VP: Verb NP <- ((2, 2), (3, 4)) | 1.8e-07\n",
      "PP: Prep NP <- ((2, 2), (3, 4)) | 1.5000000000000005e-07\n"
     ]
    },
    {
     "data": {
      "image/svg+xml": "<?xml version=\"1.0\" encoding=\"UTF-8\" standalone=\"no\"?>\n<!DOCTYPE svg PUBLIC \"-//W3C//DTD SVG 1.1//EN\"\n \"http://www.w3.org/Graphics/SVG/1.1/DTD/svg11.dtd\">\n<!-- Generated by graphviz version 2.43.0 (0)\n -->\n<!-- Title: g Pages: 1 -->\n<svg width=\"499pt\" height=\"152pt\"\n viewBox=\"0.00 0.00 499.00 152.00\" xmlns=\"http://www.w3.org/2000/svg\" xmlns:xlink=\"http://www.w3.org/1999/xlink\">\n<g id=\"graph0\" class=\"graph\" transform=\"scale(1 1) rotate(0) translate(4 148)\">\n<title>g</title>\n<polygon fill=\"white\" stroke=\"transparent\" points=\"-4,4 -4,-148 495,-148 495,4 -4,4\"/>\n<!-- node0 -->\n<g id=\"node1\" class=\"node\">\n<title>node0</title>\n<polygon fill=\"none\" stroke=\"black\" points=\"174,-120.5 174,-143.5 375,-143.5 375,-120.5 174,-120.5\"/>\n<text text-anchor=\"middle\" x=\"198.5\" y=\"-128.3\" font-family=\"Times,serif\" font-size=\"14.00\">root:0</text>\n<polyline fill=\"none\" stroke=\"black\" points=\"223,-120.5 223,-143.5 \"/>\n<text text-anchor=\"middle\" x=\"258.5\" y=\"-128.3\" font-family=\"Times,serif\" font-size=\"14.00\">position:0</text>\n<polyline fill=\"none\" stroke=\"black\" points=\"294,-120.5 294,-143.5 \"/>\n<text text-anchor=\"middle\" x=\"311\" y=\"-128.3\" font-family=\"Times,serif\" font-size=\"14.00\">VP</text>\n<polyline fill=\"none\" stroke=\"black\" points=\"328,-120.5 328,-143.5 \"/>\n<text text-anchor=\"middle\" x=\"351.5\" y=\"-128.3\" font-family=\"Times,serif\" font-size=\"14.00\">(2, 4)</text>\n</g>\n<!-- node1 -->\n<g id=\"node2\" class=\"node\">\n<title>node1</title>\n<polygon fill=\"none\" stroke=\"black\" points=\"0,-60.5 0,-83.5 211,-83.5 211,-60.5 0,-60.5\"/>\n<text text-anchor=\"middle\" x=\"24.5\" y=\"-68.3\" font-family=\"Times,serif\" font-size=\"14.00\">root:0</text>\n<polyline fill=\"none\" stroke=\"black\" points=\"49,-60.5 49,-83.5 \"/>\n<text text-anchor=\"middle\" x=\"84.5\" y=\"-68.3\" font-family=\"Times,serif\" font-size=\"14.00\">position:1</text>\n<polyline fill=\"none\" stroke=\"black\" points=\"120,-60.5 120,-83.5 \"/>\n<text text-anchor=\"middle\" x=\"142\" y=\"-68.3\" font-family=\"Times,serif\" font-size=\"14.00\">Verb</text>\n<polyline fill=\"none\" stroke=\"black\" points=\"164,-60.5 164,-83.5 \"/>\n<text text-anchor=\"middle\" x=\"187.5\" y=\"-68.3\" font-family=\"Times,serif\" font-size=\"14.00\">(2, 2)</text>\n</g>\n<!-- node0&#45;&gt;node1 -->\n<g id=\"edge1\" class=\"edge\">\n<title>node0:f0&#45;&gt;node1:f1</title>\n<path fill=\"none\" stroke=\"black\" d=\"M172.5,-132C131.6,-132 91.64,-129.09 85.35,-94.15\"/>\n<polygon fill=\"black\" stroke=\"black\" points=\"88.83,-93.67 84.5,-84 81.85,-94.26 88.83,-93.67\"/>\n</g>\n<!-- node2 -->\n<g id=\"node3\" class=\"node\">\n<title>node2</title>\n<polygon fill=\"none\" stroke=\"black\" points=\"229,-60.5 229,-83.5 430,-83.5 430,-60.5 229,-60.5\"/>\n<text text-anchor=\"middle\" x=\"253.5\" y=\"-68.3\" font-family=\"Times,serif\" font-size=\"14.00\">root:0</text>\n<polyline fill=\"none\" stroke=\"black\" points=\"278,-60.5 278,-83.5 \"/>\n<text text-anchor=\"middle\" x=\"313.5\" y=\"-68.3\" font-family=\"Times,serif\" font-size=\"14.00\">position:2</text>\n<polyline fill=\"none\" stroke=\"black\" points=\"349,-60.5 349,-83.5 \"/>\n<text text-anchor=\"middle\" x=\"366\" y=\"-68.3\" font-family=\"Times,serif\" font-size=\"14.00\">NP</text>\n<polyline fill=\"none\" stroke=\"black\" points=\"383,-60.5 383,-83.5 \"/>\n<text text-anchor=\"middle\" x=\"406.5\" y=\"-68.3\" font-family=\"Times,serif\" font-size=\"14.00\">(3, 4)</text>\n</g>\n<!-- node0&#45;&gt;node2 -->\n<g id=\"edge2\" class=\"edge\">\n<title>node0:f0&#45;&gt;node2:f1</title>\n<path fill=\"none\" stroke=\"black\" d=\"M198.5,-120C198.5,-70.42 297.06,-127.69 311.69,-93.97\"/>\n<polygon fill=\"black\" stroke=\"black\" points=\"315.16,-94.46 313.5,-84 308.27,-93.22 315.16,-94.46\"/>\n</g>\n<!-- node3 -->\n<g id=\"node4\" class=\"node\">\n<title>node3</title>\n<polygon fill=\"none\" stroke=\"black\" points=\"59,-0.5 59,-23.5 262,-23.5 262,-0.5 59,-0.5\"/>\n<text text-anchor=\"middle\" x=\"83.5\" y=\"-8.3\" font-family=\"Times,serif\" font-size=\"14.00\">root:2</text>\n<polyline fill=\"none\" stroke=\"black\" points=\"108,-0.5 108,-23.5 \"/>\n<text text-anchor=\"middle\" x=\"143.5\" y=\"-8.3\" font-family=\"Times,serif\" font-size=\"14.00\">position:3</text>\n<polyline fill=\"none\" stroke=\"black\" points=\"179,-0.5 179,-23.5 \"/>\n<text text-anchor=\"middle\" x=\"197\" y=\"-8.3\" font-family=\"Times,serif\" font-size=\"14.00\">Det</text>\n<polyline fill=\"none\" stroke=\"black\" points=\"215,-0.5 215,-23.5 \"/>\n<text text-anchor=\"middle\" x=\"238.5\" y=\"-8.3\" font-family=\"Times,serif\" font-size=\"14.00\">(3, 3)</text>\n</g>\n<!-- node2&#45;&gt;node3 -->\n<g id=\"edge3\" class=\"edge\">\n<title>node2:f0&#45;&gt;node3:f1</title>\n<path fill=\"none\" stroke=\"black\" d=\"M227.5,-72C221.09,-72 224.35,-64.19 219.5,-60 194.31,-38.24 153.71,-56.33 145.12,-34.14\"/>\n<polygon fill=\"black\" stroke=\"black\" points=\"148.54,-33.32 143.5,-24 141.63,-34.43 148.54,-33.32\"/>\n</g>\n<!-- node4 -->\n<g id=\"node5\" class=\"node\">\n<title>node4</title>\n<polygon fill=\"none\" stroke=\"black\" points=\"280,-0.5 280,-23.5 491,-23.5 491,-0.5 280,-0.5\"/>\n<text text-anchor=\"middle\" x=\"304.5\" y=\"-8.3\" font-family=\"Times,serif\" font-size=\"14.00\">root:2</text>\n<polyline fill=\"none\" stroke=\"black\" points=\"329,-0.5 329,-23.5 \"/>\n<text text-anchor=\"middle\" x=\"364.5\" y=\"-8.3\" font-family=\"Times,serif\" font-size=\"14.00\">position:4</text>\n<polyline fill=\"none\" stroke=\"black\" points=\"400,-0.5 400,-23.5 \"/>\n<text text-anchor=\"middle\" x=\"422\" y=\"-8.3\" font-family=\"Times,serif\" font-size=\"14.00\">Nom</text>\n<polyline fill=\"none\" stroke=\"black\" points=\"444,-0.5 444,-23.5 \"/>\n<text text-anchor=\"middle\" x=\"467.5\" y=\"-8.3\" font-family=\"Times,serif\" font-size=\"14.00\">(4, 4)</text>\n</g>\n<!-- node2&#45;&gt;node4 -->\n<g id=\"edge4\" class=\"edge\">\n<title>node2:f0&#45;&gt;node4:f1</title>\n<path fill=\"none\" stroke=\"black\" d=\"M253.5,-60C253.5,-12.19 347.83,-66.01 362.57,-34.08\"/>\n<polygon fill=\"black\" stroke=\"black\" points=\"366.06,-34.48 364.5,-24 359.18,-33.17 366.06,-34.48\"/>\n</g>\n</g>\n</svg>\n",
      "text/plain": [
       "<graphviz.graphs.Digraph at 0x7fae9b7245e0>"
      ]
     },
     "metadata": {},
     "output_type": "display_data"
    },
    {
     "name": "stdout",
     "output_type": "stream",
     "text": [
      "3 0\n",
      "3 1\n",
      "3 2\n",
      "3 3\n",
      "Det: an <- - | 0.05\n"
     ]
    },
    {
     "data": {
      "image/svg+xml": "<?xml version=\"1.0\" encoding=\"UTF-8\" standalone=\"no\"?>\n<!DOCTYPE svg PUBLIC \"-//W3C//DTD SVG 1.1//EN\"\n \"http://www.w3.org/Graphics/SVG/1.1/DTD/svg11.dtd\">\n<!-- Generated by graphviz version 2.43.0 (0)\n -->\n<!-- Title: g Pages: 1 -->\n<svg width=\"211pt\" height=\"32pt\"\n viewBox=\"0.00 0.00 211.00 32.00\" xmlns=\"http://www.w3.org/2000/svg\" xmlns:xlink=\"http://www.w3.org/1999/xlink\">\n<g id=\"graph0\" class=\"graph\" transform=\"scale(1 1) rotate(0) translate(4 28)\">\n<title>g</title>\n<polygon fill=\"white\" stroke=\"transparent\" points=\"-4,4 -4,-28 207,-28 207,4 -4,4\"/>\n<!-- node0 -->\n<g id=\"node1\" class=\"node\">\n<title>node0</title>\n<polygon fill=\"none\" stroke=\"black\" points=\"0,-0.5 0,-23.5 203,-23.5 203,-0.5 0,-0.5\"/>\n<text text-anchor=\"middle\" x=\"24.5\" y=\"-8.3\" font-family=\"Times,serif\" font-size=\"14.00\">root:0</text>\n<polyline fill=\"none\" stroke=\"black\" points=\"49,-0.5 49,-23.5 \"/>\n<text text-anchor=\"middle\" x=\"84.5\" y=\"-8.3\" font-family=\"Times,serif\" font-size=\"14.00\">position:0</text>\n<polyline fill=\"none\" stroke=\"black\" points=\"120,-0.5 120,-23.5 \"/>\n<text text-anchor=\"middle\" x=\"138\" y=\"-8.3\" font-family=\"Times,serif\" font-size=\"14.00\">Det</text>\n<polyline fill=\"none\" stroke=\"black\" points=\"156,-0.5 156,-23.5 \"/>\n<text text-anchor=\"middle\" x=\"179.5\" y=\"-8.3\" font-family=\"Times,serif\" font-size=\"14.00\">(3, 3)</text>\n</g>\n</g>\n</svg>\n",
      "text/plain": [
       "<graphviz.graphs.Digraph at 0x7fae9b724ac0>"
      ]
     },
     "metadata": {},
     "output_type": "display_data"
    },
    {
     "name": "stdout",
     "output_type": "stream",
     "text": [
      "3 4\n",
      "NP: Det Nom <- ((3, 3), (4, 4)) | 3e-05\n"
     ]
    },
    {
     "data": {
      "image/svg+xml": "<?xml version=\"1.0\" encoding=\"UTF-8\" standalone=\"no\"?>\n<!DOCTYPE svg PUBLIC \"-//W3C//DTD SVG 1.1//EN\"\n \"http://www.w3.org/Graphics/SVG/1.1/DTD/svg11.dtd\">\n<!-- Generated by graphviz version 2.43.0 (0)\n -->\n<!-- Title: g Pages: 1 -->\n<svg width=\"440pt\" height=\"92pt\"\n viewBox=\"0.00 0.00 440.00 92.00\" xmlns=\"http://www.w3.org/2000/svg\" xmlns:xlink=\"http://www.w3.org/1999/xlink\">\n<g id=\"graph0\" class=\"graph\" transform=\"scale(1 1) rotate(0) translate(4 88)\">\n<title>g</title>\n<polygon fill=\"white\" stroke=\"transparent\" points=\"-4,4 -4,-88 436,-88 436,4 -4,4\"/>\n<!-- node0 -->\n<g id=\"node1\" class=\"node\">\n<title>node0</title>\n<polygon fill=\"none\" stroke=\"black\" points=\"170,-60.5 170,-83.5 371,-83.5 371,-60.5 170,-60.5\"/>\n<text text-anchor=\"middle\" x=\"194.5\" y=\"-68.3\" font-family=\"Times,serif\" font-size=\"14.00\">root:0</text>\n<polyline fill=\"none\" stroke=\"black\" points=\"219,-60.5 219,-83.5 \"/>\n<text text-anchor=\"middle\" x=\"254.5\" y=\"-68.3\" font-family=\"Times,serif\" font-size=\"14.00\">position:0</text>\n<polyline fill=\"none\" stroke=\"black\" points=\"290,-60.5 290,-83.5 \"/>\n<text text-anchor=\"middle\" x=\"307\" y=\"-68.3\" font-family=\"Times,serif\" font-size=\"14.00\">NP</text>\n<polyline fill=\"none\" stroke=\"black\" points=\"324,-60.5 324,-83.5 \"/>\n<text text-anchor=\"middle\" x=\"347.5\" y=\"-68.3\" font-family=\"Times,serif\" font-size=\"14.00\">(3, 4)</text>\n</g>\n<!-- node1 -->\n<g id=\"node2\" class=\"node\">\n<title>node1</title>\n<polygon fill=\"none\" stroke=\"black\" points=\"0,-0.5 0,-23.5 203,-23.5 203,-0.5 0,-0.5\"/>\n<text text-anchor=\"middle\" x=\"24.5\" y=\"-8.3\" font-family=\"Times,serif\" font-size=\"14.00\">root:0</text>\n<polyline fill=\"none\" stroke=\"black\" points=\"49,-0.5 49,-23.5 \"/>\n<text text-anchor=\"middle\" x=\"84.5\" y=\"-8.3\" font-family=\"Times,serif\" font-size=\"14.00\">position:1</text>\n<polyline fill=\"none\" stroke=\"black\" points=\"120,-0.5 120,-23.5 \"/>\n<text text-anchor=\"middle\" x=\"138\" y=\"-8.3\" font-family=\"Times,serif\" font-size=\"14.00\">Det</text>\n<polyline fill=\"none\" stroke=\"black\" points=\"156,-0.5 156,-23.5 \"/>\n<text text-anchor=\"middle\" x=\"179.5\" y=\"-8.3\" font-family=\"Times,serif\" font-size=\"14.00\">(3, 3)</text>\n</g>\n<!-- node0&#45;&gt;node1 -->\n<g id=\"edge1\" class=\"edge\">\n<title>node0:f0&#45;&gt;node1:f1</title>\n<path fill=\"none\" stroke=\"black\" d=\"M168.5,-72C129.2,-72 91.56,-67.82 85.38,-34.26\"/>\n<polygon fill=\"black\" stroke=\"black\" points=\"88.84,-33.66 84.5,-24 81.87,-34.26 88.84,-33.66\"/>\n</g>\n<!-- node2 -->\n<g id=\"node3\" class=\"node\">\n<title>node2</title>\n<polygon fill=\"none\" stroke=\"black\" points=\"221,-0.5 221,-23.5 432,-23.5 432,-0.5 221,-0.5\"/>\n<text text-anchor=\"middle\" x=\"245.5\" y=\"-8.3\" font-family=\"Times,serif\" font-size=\"14.00\">root:0</text>\n<polyline fill=\"none\" stroke=\"black\" points=\"270,-0.5 270,-23.5 \"/>\n<text text-anchor=\"middle\" x=\"305.5\" y=\"-8.3\" font-family=\"Times,serif\" font-size=\"14.00\">position:2</text>\n<polyline fill=\"none\" stroke=\"black\" points=\"341,-0.5 341,-23.5 \"/>\n<text text-anchor=\"middle\" x=\"363\" y=\"-8.3\" font-family=\"Times,serif\" font-size=\"14.00\">Nom</text>\n<polyline fill=\"none\" stroke=\"black\" points=\"385,-0.5 385,-23.5 \"/>\n<text text-anchor=\"middle\" x=\"408.5\" y=\"-8.3\" font-family=\"Times,serif\" font-size=\"14.00\">(4, 4)</text>\n</g>\n<!-- node0&#45;&gt;node2 -->\n<g id=\"edge2\" class=\"edge\">\n<title>node0:f0&#45;&gt;node2:f1</title>\n<path fill=\"none\" stroke=\"black\" d=\"M194.5,-60C194.5,-12.19 288.83,-66.01 303.57,-34.08\"/>\n<polygon fill=\"black\" stroke=\"black\" points=\"307.06,-34.48 305.5,-24 300.18,-33.17 307.06,-34.48\"/>\n</g>\n</g>\n</svg>\n",
      "text/plain": [
       "<graphviz.graphs.Digraph at 0x7fae9b7249d0>"
      ]
     },
     "metadata": {},
     "output_type": "display_data"
    },
    {
     "name": "stdout",
     "output_type": "stream",
     "text": [
      "4 0\n",
      "4 1\n",
      "4 2\n",
      "4 3\n",
      "4 4\n",
      "NP: ('time', 'flies', 'arrow') <- - | 0.002\n",
      "Nom: ('time', 'flies', 'arrow') <- - | 0.002\n",
      "Noun: ('time', 'flies', 'arrow') <- - | 0.01\n"
     ]
    },
    {
     "data": {
      "image/svg+xml": "<?xml version=\"1.0\" encoding=\"UTF-8\" standalone=\"no\"?>\n<!DOCTYPE svg PUBLIC \"-//W3C//DTD SVG 1.1//EN\"\n \"http://www.w3.org/Graphics/SVG/1.1/DTD/svg11.dtd\">\n<!-- Generated by graphviz version 2.43.0 (0)\n -->\n<!-- Title: g Pages: 1 -->\n<svg width=\"222pt\" height=\"32pt\"\n viewBox=\"0.00 0.00 222.00 32.00\" xmlns=\"http://www.w3.org/2000/svg\" xmlns:xlink=\"http://www.w3.org/1999/xlink\">\n<g id=\"graph0\" class=\"graph\" transform=\"scale(1 1) rotate(0) translate(4 28)\">\n<title>g</title>\n<polygon fill=\"white\" stroke=\"transparent\" points=\"-4,4 -4,-28 218,-28 218,4 -4,4\"/>\n<!-- node0 -->\n<g id=\"node1\" class=\"node\">\n<title>node0</title>\n<polygon fill=\"none\" stroke=\"black\" points=\"0,-0.5 0,-23.5 214,-23.5 214,-0.5 0,-0.5\"/>\n<text text-anchor=\"middle\" x=\"24.5\" y=\"-8.3\" font-family=\"Times,serif\" font-size=\"14.00\">root:0</text>\n<polyline fill=\"none\" stroke=\"black\" points=\"49,-0.5 49,-23.5 \"/>\n<text text-anchor=\"middle\" x=\"84.5\" y=\"-8.3\" font-family=\"Times,serif\" font-size=\"14.00\">position:0</text>\n<polyline fill=\"none\" stroke=\"black\" points=\"120,-0.5 120,-23.5 \"/>\n<text text-anchor=\"middle\" x=\"143.5\" y=\"-8.3\" font-family=\"Times,serif\" font-size=\"14.00\">Noun</text>\n<polyline fill=\"none\" stroke=\"black\" points=\"167,-0.5 167,-23.5 \"/>\n<text text-anchor=\"middle\" x=\"190.5\" y=\"-8.3\" font-family=\"Times,serif\" font-size=\"14.00\">(4, 4)</text>\n</g>\n</g>\n</svg>\n",
      "text/plain": [
       "<graphviz.graphs.Digraph at 0x7fae9b724ee0>"
      ]
     },
     "metadata": {},
     "output_type": "display_data"
    }
   ],
   "source": [
    "len_words, matrix = algorithm_CKY(phrase, grammar)\n",
    "print_matrix(len_words, matrix)"
   ]
  }
 ],
 "metadata": {
  "kernelspec": {
   "display_name": "Python 3",
   "language": "python",
   "name": "python3"
  },
  "language_info": {
   "codemirror_mode": {
    "name": "ipython",
    "version": 3
   },
   "file_extension": ".py",
   "mimetype": "text/x-python",
   "name": "python",
   "nbconvert_exporter": "python",
   "pygments_lexer": "ipython3",
   "version": "3.10.6"
  },
  "orig_nbformat": 4,
  "vscode": {
   "interpreter": {
    "hash": "916dbcbb3f70747c44a77c7bcd40155683ae19c65e1c03b4aa3499c5328201f1"
   }
  }
 },
 "nbformat": 4,
 "nbformat_minor": 2
}
