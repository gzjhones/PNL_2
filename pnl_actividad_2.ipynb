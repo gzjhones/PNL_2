{
 "cells": [
  {
   "attachments": {},
   "cell_type": "markdown",
   "metadata": {},
   "source": [
    "# Actividad 2: Análisis sintáctico\n",
    "**Universidad Internacional de La Rioja (UNIR) - Máster Universitario en Inteligencia Artificial - Procesamiento del Lenguaje Natural**"
   ]
  },
  {
   "attachments": {},
   "cell_type": "markdown",
   "metadata": {},
   "source": [
    "***\n",
    "**Datos de los alumnos (Nombres y Apellidos):**\n",
    "    \n",
    "&emsp;- César David Sáenz Salazar\n",
    "    \n",
    "&emsp;- Alvaro Pinto Mamani\n",
    "\n",
    "*Fecha: 24/01/2023*\n",
    "***"
   ]
  },
  {
   "attachments": {},
   "cell_type": "markdown",
   "metadata": {},
   "source": [
    "## Índice\n",
    "* [1) Definición de funciones](#1)\n",
    "* [2) Inicialización del las reglas sintácticas](#2)\n",
    "* [3) Aplicación del algoritmo CKY](#3)"
   ]
  },
  {
   "attachments": {},
   "cell_type": "markdown",
   "metadata": {},
   "source": [
    "### 1. Definición de funciones<a class=\"anchor\" id=\"1\"></a>"
   ]
  },
  {
   "cell_type": "code",
   "execution_count": 6,
   "metadata": {},
   "outputs": [],
   "source": [
    "class MatrixRule:\n",
    "    def __init__(self, symbol, rule, origin, probability):\n",
    "        self.symbol = symbol\n",
    "        self.rule = rule\n",
    "        self.origin = origin\n",
    "        self.probability = probability\n",
    "\n",
    "    def get_symbol(self):\n",
    "        return self.symbol\n",
    "\n",
    "    def get_rule(self):\n",
    "        return self.rule\n",
    "\n",
    "    def get_origin(self):\n",
    "        return self.origin\n",
    "\n",
    "    def get_probability(self):\n",
    "        return self.probability\n",
    "\n",
    "    def get_data(self):\n",
    "        return self.symbol + \": \" + str(self.rule) + \" <- \" + str(self.origin) + \" | \" + str(self.probability)\n",
    "\n",
    "\n",
    "def algorithm_CKY(phrase, grammar):\n",
    "    # Definición de la matriz para el algoritmo CKY\n",
    "    len_words = len(phrase)\n",
    "    matrix = [[[] for _ in range(len_words)] for _ in range(len_words)]\n",
    "\n",
    "    # Análisis de la primer diagonal\n",
    "    for n in range(len_words):\n",
    "        for key, rules in grammar.items():\n",
    "            for rule in rules:\n",
    "                rule_elements = rule[1]\n",
    "                if phrase[n] in rule_elements:\n",
    "                    matrix[n][n].append(\n",
    "                        MatrixRule(symbol=key, rule=rule_elements, origin=\"-\", probability=rule[0])\n",
    "                    )\n",
    "\n",
    "    # Análisis del resto de la matriz\n",
    "    for n in range(1, len_words):\n",
    "        for i in range(len_words - n):\n",
    "            j = i + n\n",
    "            for k in range(i, j):\n",
    "                for key, rules in grammar.items():\n",
    "                    for rule in rules:\n",
    "                        rule_elements = rule[1]\n",
    "                        for matrix_rule_1 in matrix[i][k]:\n",
    "                            for matrix_rule_2 in matrix[k+1][j]:\n",
    "                                symbol = matrix_rule_1.get_symbol() + \" \" + matrix_rule_2.get_symbol()\n",
    "                                if symbol in rule_elements:\n",
    "                                    origin = ((i, k), (k+1, j))\n",
    "                                    probability = rule[0] * matrix_rule_1.get_probability() * matrix_rule_2.get_probability()\n",
    "                                    matrix[i][j].append(\n",
    "                                        MatrixRule(symbol=key, rule=rule_elements, origin=origin, probability=probability)\n",
    "                                    )\n",
    "    return len_words, matrix\n",
    "\n",
    "\n",
    "def print_matrix(len_words, matrix):\n",
    "    # Datos de la matriz\n",
    "    for n in range(len_words):\n",
    "        for i in range(len_words):\n",
    "            print(n, i)\n",
    "            for matrix_rule in matrix[n][i]:\n",
    "                print(matrix_rule.get_data())"
   ]
  },
  {
   "attachments": {},
   "cell_type": "markdown",
   "metadata": {},
   "source": [
    "### 2. Inicialización del las reglas sintácticas<a class=\"anchor\" id=\"2\"></a>"
   ]
  },
  {
   "cell_type": "code",
   "execution_count": 7,
   "metadata": {},
   "outputs": [],
   "source": [
    "# Definición de la frase a análizar\n",
    "phrase = \"time flies like an arrow\"\n",
    "phrase = phrase.split()\n",
    "\n",
    "# Definición de las reglas gramaticales\n",
    "grammar = {\n",
    "    \"S\": ((0.8, ('NP VP')),),\n",
    "    \"NP\": ((0.002, ('time', 'flies', 'arrow')),\n",
    "           (0.3, ('Det Nom')),\n",
    "           (0.2, ('Nom Nom'))\n",
    "           ),\n",
    "    \"Nom\": ((0.002, ('time', 'flies', 'arrow')),\n",
    "                (0.1, ('Nom Noun')),\n",
    "                (0.2, ('Nom PP'))\n",
    "                ),\n",
    "    \"VP\": ((0.004, ('time')),\n",
    "           (0.008, ('flies', 'like')),\n",
    "           (0.3, ('Verb NP')),\n",
    "           (0.2, ('Verb PP'))\n",
    "           ),\n",
    "    \"PP\": ((0.1, ('Prep NP')),),\n",
    "    \"Verb\": ((0.01, ('time')),\n",
    "             (0.02, ('flies', 'like'))\n",
    "             ),\n",
    "    \"Noun\": ((0.01, ('time', 'flies', 'arrow')),),\n",
    "    \"Det\": ((0.05, ('an')),),\n",
    "    \"Prep\": ((0.05, ('like')),),\n",
    "}"
   ]
  },
  {
   "attachments": {},
   "cell_type": "markdown",
   "metadata": {},
   "source": [
    "### 3. Aplicación del algoritmo CKY<a class=\"anchor\" id=\"3\"></a>"
   ]
  },
  {
   "cell_type": "code",
   "execution_count": 8,
   "metadata": {},
   "outputs": [
    {
     "name": "stdout",
     "output_type": "stream",
     "text": [
      "0 0\n",
      "NP: ('time', 'flies', 'arrow') <- - | 0.002\n",
      "Nom: ('time', 'flies', 'arrow') <- - | 0.002\n",
      "VP: time <- - | 0.004\n",
      "Verb: time <- - | 0.01\n",
      "Noun: ('time', 'flies', 'arrow') <- - | 0.01\n",
      "0 1\n",
      "S: NP VP <- ((0, 0), (1, 1)) | 1.2800000000000001e-05\n",
      "NP: Nom Nom <- ((0, 0), (1, 1)) | 8.000000000000001e-07\n",
      "Nom: Nom Noun <- ((0, 0), (1, 1)) | 2.0000000000000003e-06\n",
      "VP: Verb NP <- ((0, 0), (1, 1)) | 6e-06\n",
      "0 2\n",
      "S: NP VP <- ((0, 1), (2, 2)) | 5.120000000000001e-09\n",
      "0 3\n",
      "0 4\n",
      "S: NP VP <- ((0, 0), (1, 4)) | 9.600000000000004e-13\n",
      "NP: Nom Nom <- ((0, 0), (1, 4)) | 2.400000000000001e-14\n",
      "S: NP VP <- ((0, 1), (2, 4)) | 1.1520000000000003e-13\n",
      "Nom: Nom PP <- ((0, 1), (2, 4)) | 6.000000000000003e-14\n",
      "1 0\n",
      "1 1\n",
      "NP: ('time', 'flies', 'arrow') <- - | 0.002\n",
      "Nom: ('time', 'flies', 'arrow') <- - | 0.002\n",
      "VP: ('flies', 'like') <- - | 0.008\n",
      "Verb: ('flies', 'like') <- - | 0.02\n",
      "Noun: ('time', 'flies', 'arrow') <- - | 0.01\n",
      "1 2\n",
      "S: NP VP <- ((1, 1), (2, 2)) | 1.2800000000000001e-05\n",
      "1 3\n",
      "1 4\n",
      "S: NP VP <- ((1, 1), (2, 4)) | 2.88e-10\n",
      "Nom: Nom PP <- ((1, 1), (2, 4)) | 6.000000000000003e-11\n",
      "VP: Verb PP <- ((1, 1), (2, 4)) | 6.000000000000002e-10\n",
      "2 0\n",
      "2 1\n",
      "2 2\n",
      "VP: ('flies', 'like') <- - | 0.008\n",
      "Verb: ('flies', 'like') <- - | 0.02\n",
      "Prep: like <- - | 0.05\n",
      "2 3\n",
      "2 4\n",
      "VP: Verb NP <- ((2, 2), (3, 4)) | 1.8e-07\n",
      "PP: Prep NP <- ((2, 2), (3, 4)) | 1.5000000000000005e-07\n",
      "3 0\n",
      "3 1\n",
      "3 2\n",
      "3 3\n",
      "Det: an <- - | 0.05\n",
      "3 4\n",
      "NP: Det Nom <- ((3, 3), (4, 4)) | 3e-05\n",
      "4 0\n",
      "4 1\n",
      "4 2\n",
      "4 3\n",
      "4 4\n",
      "NP: ('time', 'flies', 'arrow') <- - | 0.002\n",
      "Nom: ('time', 'flies', 'arrow') <- - | 0.002\n",
      "Noun: ('time', 'flies', 'arrow') <- - | 0.01\n"
     ]
    }
   ],
   "source": [
    "len_words, matrix = algorithm_CKY(phrase, grammar)\n",
    "print_matrix(len_words, matrix)"
   ]
  }
 ],
 "metadata": {
  "kernelspec": {
   "display_name": "Python 3",
   "language": "python",
   "name": "python3"
  },
  "language_info": {
   "codemirror_mode": {
    "name": "ipython",
    "version": 3
   },
   "file_extension": ".py",
   "mimetype": "text/x-python",
   "name": "python",
   "nbconvert_exporter": "python",
   "pygments_lexer": "ipython3",
   "version": "3.10.9"
  },
  "orig_nbformat": 4,
  "vscode": {
   "interpreter": {
    "hash": "8087080aba26fb2bd6ac4781d5e8f5b1fcc58b66b12b9d11fb271d3c71b9e510"
   }
  }
 },
 "nbformat": 4,
 "nbformat_minor": 2
}
